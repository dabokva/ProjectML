{
 "cells": [
  {
   "cell_type": "markdown",
   "metadata": {},
   "source": [
    "# Topic 28 - Microbes Classification"
   ]
  },
  {
   "cell_type": "markdown",
   "metadata": {},
   "source": [
    "## EDA"
   ]
  },
  {
   "cell_type": "markdown",
   "metadata": {},
   "source": [
    "### Libraries and Data loading"
   ]
  },
  {
   "cell_type": "code",
   "execution_count": 1,
   "metadata": {},
   "outputs": [],
   "source": [
    "import pandas as pd \n",
    "import numpy as np\n",
    "import matplotlib.pyplot as plt\n",
    "import seaborn as sns\n",
    "\n",
    "plt.rcParams[\"figure.dpi\"] =  100\n",
    "df = pd.read_csv('microbes.csv')"
   ]
  },
  {
   "cell_type": "markdown",
   "metadata": {},
   "source": [
    "### Structure of the dataset"
   ]
  },
  {
   "cell_type": "markdown",
   "metadata": {},
   "source": [
    "Now we take a look at overall dataset structure"
   ]
  },
  {
   "cell_type": "code",
   "execution_count": null,
   "metadata": {},
   "outputs": [],
   "source": [
    "print('column list:\\n', df.columns, end='\\n\\n')\n",
    "print(df.head(3), end='\\n\\n')\n",
    "print(f'number of rows: {df.shape[0]}\\nnumber of columns: {df.shape[1]}', end='\\n\\n')"
   ]
  },
  {
   "cell_type": "markdown",
   "metadata": {},
   "source": [
    "We can see that the dataset has **30527** samples and **26** features"
   ]
  },
  {
   "cell_type": "markdown",
   "metadata": {},
   "source": [
    "Lets now investigate what types given features have.  \n",
    "As well as check if we have any missing/null values."
   ]
  },
  {
   "cell_type": "code",
   "execution_count": 5,
   "metadata": {},
   "outputs": [
    {
     "name": "stdout",
     "output_type": "stream",
     "text": [
      "<class 'pandas.core.frame.DataFrame'>\n",
      "RangeIndex: 30527 entries, 0 to 30526\n",
      "Data columns (total 26 columns):\n",
      " #   Column           Non-Null Count  Dtype  \n",
      "---  ------           --------------  -----  \n",
      " 0   Unnamed: 0       30527 non-null  int64  \n",
      " 1   Solidity         30527 non-null  float64\n",
      " 2   Eccentricity     30527 non-null  float64\n",
      " 3   EquivDiameter    30527 non-null  float64\n",
      " 4   Extrema          30527 non-null  float64\n",
      " 5   FilledArea       30527 non-null  float64\n",
      " 6   Extent           30527 non-null  float64\n",
      " 7   Orientation      30527 non-null  float64\n",
      " 8   EulerNumber      30527 non-null  float64\n",
      " 9   BoundingBox1     30527 non-null  float64\n",
      " 10  BoundingBox2     30527 non-null  float64\n",
      " 11  BoundingBox3     30527 non-null  float64\n",
      " 12  BoundingBox4     30527 non-null  float64\n",
      " 13  ConvexHull1      30527 non-null  float64\n",
      " 14  ConvexHull2      30527 non-null  float64\n",
      " 15  ConvexHull3      30527 non-null  float64\n",
      " 16  ConvexHull4      30527 non-null  float64\n",
      " 17  MajorAxisLength  30527 non-null  float64\n",
      " 18  MinorAxisLength  30527 non-null  float64\n",
      " 19  Perimeter        30527 non-null  float64\n",
      " 20  ConvexArea       30527 non-null  float64\n",
      " 21  Centroid1        30527 non-null  float64\n",
      " 22  Centroid2        30527 non-null  float64\n",
      " 23  Area             30527 non-null  float64\n",
      " 24  raddi            30527 non-null  float64\n",
      " 25  microorganisms   30527 non-null  object \n",
      "dtypes: float64(24), int64(1), object(1)\n",
      "memory usage: 6.1+ MB\n",
      "None\n"
     ]
    }
   ],
   "source": [
    "print(df.info())"
   ]
  }
 ],
 "metadata": {
  "kernelspec": {
   "display_name": "Python 3",
   "language": "python",
   "name": "python3"
  },
  "language_info": {
   "codemirror_mode": {
    "name": "ipython",
    "version": 3
   },
   "file_extension": ".py",
   "mimetype": "text/x-python",
   "name": "python",
   "nbconvert_exporter": "python",
   "pygments_lexer": "ipython3",
   "version": "3.12.1"
  }
 },
 "nbformat": 4,
 "nbformat_minor": 2
}
