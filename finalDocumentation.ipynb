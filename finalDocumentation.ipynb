{
 "cells": [
  {
   "cell_type": "markdown",
   "metadata": {},
   "source": [
    "# Topic 28 - Microbes Classification"
   ]
  },
  {
   "cell_type": "markdown",
   "metadata": {},
   "source": [
    "## EDA"
   ]
  },
  {
   "cell_type": "markdown",
   "metadata": {},
   "source": [
    "### Libraries and Data loading"
   ]
  },
  {
   "cell_type": "code",
   "execution_count": 30,
   "metadata": {},
   "outputs": [],
   "source": [
    "import pandas as pd \n",
    "import numpy as np\n",
    "import matplotlib.pyplot as plt\n",
    "import seaborn as sns\n",
    "\n",
    "plt.rcParams[\"figure.dpi\"] =  100\n",
    "df = pd.read_csv('microbes.csv')\n",
    "df.drop(columns=['Unnamed: 0'], inplace=True)"
   ]
  },
  {
   "cell_type": "markdown",
   "metadata": {},
   "source": [
    "### Structure of the dataset"
   ]
  },
  {
   "cell_type": "markdown",
   "metadata": {},
   "source": [
    "Now we take a look at overall dataset structure"
   ]
  },
  {
   "cell_type": "code",
   "execution_count": 31,
   "metadata": {},
   "outputs": [
    {
     "name": "stdout",
     "output_type": "stream",
     "text": [
      "features:\n",
      " Index(['Solidity', 'Eccentricity', 'EquivDiameter', 'Extrema', 'FilledArea',\n",
      "       'Extent', 'Orientation', 'EulerNumber', 'BoundingBox1', 'BoundingBox2',\n",
      "       'BoundingBox3', 'BoundingBox4', 'ConvexHull1', 'ConvexHull2',\n",
      "       'ConvexHull3', 'ConvexHull4', 'MajorAxisLength', 'MinorAxisLength',\n",
      "       'Perimeter', 'ConvexArea', 'Centroid1', 'Centroid2', 'Area', 'raddi',\n",
      "       'microorganisms'],\n",
      "      dtype='object')\n",
      "\n",
      "   Solidity  Eccentricity  EquivDiameter  Extrema  FilledArea  Extent  \\\n",
      "0     10.70          15.8           5.43     3.75       0.785    8.14   \n",
      "1      5.60          18.3           4.14     6.16       0.364    3.51   \n",
      "2      8.32          19.8           4.63     6.66       0.415    5.85   \n",
      "\n",
      "   Orientation  EulerNumber  BoundingBox1  BoundingBox2  ...  ConvexHull4  \\\n",
      "0         2.15         22.3          2.97          10.9  ...         2.97   \n",
      "1        18.60         22.5          5.41          19.2  ...         5.47   \n",
      "2        21.00         22.4          5.96          10.2  ...         5.96   \n",
      "\n",
      "   MajorAxisLength  MinorAxisLength  Perimeter  ConvexArea  Centroid1  \\\n",
      "0             1.34             1.61      0.683       0.195       3.63   \n",
      "1             1.52             1.52      1.010       0.215       6.01   \n",
      "2             1.63             1.38      1.110       0.182       6.55   \n",
      "\n",
      "   Centroid2   Area  raddi  microorganisms  \n",
      "0       12.1  1.310   7.99       Spirogyra  \n",
      "1       20.6  0.765   7.99       Spirogyra  \n",
      "2       11.5  0.953   7.99       Spirogyra  \n",
      "\n",
      "[3 rows x 25 columns]\n",
      "\n",
      "number of rows: 30527\n",
      "number of columns: 25\n",
      "\n"
     ]
    }
   ],
   "source": [
    "print('features:\\n', df.columns, end='\\n\\n')\n",
    "print(df.head(3), end='\\n\\n')\n",
    "print(f'number of rows: {df.shape[0]}\\nnumber of columns: {df.shape[1]}', end='\\n\\n')"
   ]
  },
  {
   "cell_type": "markdown",
   "metadata": {},
   "source": [
    "We can see that the dataset has **30527** samples and **26** features"
   ]
  },
  {
   "cell_type": "markdown",
   "metadata": {},
   "source": [
    "Lets now investigate what types given features have.  \n",
    "As well as check if we have any missing/zero values."
   ]
  },
  {
   "cell_type": "code",
   "execution_count": 32,
   "metadata": {},
   "outputs": [
    {
     "name": "stdout",
     "output_type": "stream",
     "text": [
      "<class 'pandas.core.frame.DataFrame'>\n",
      "RangeIndex: 30527 entries, 0 to 30526\n",
      "Data columns (total 25 columns):\n",
      " #   Column           Non-Null Count  Dtype  \n",
      "---  ------           --------------  -----  \n",
      " 0   Solidity         30527 non-null  float64\n",
      " 1   Eccentricity     30527 non-null  float64\n",
      " 2   EquivDiameter    30527 non-null  float64\n",
      " 3   Extrema          30527 non-null  float64\n",
      " 4   FilledArea       30527 non-null  float64\n",
      " 5   Extent           30527 non-null  float64\n",
      " 6   Orientation      30527 non-null  float64\n",
      " 7   EulerNumber      30527 non-null  float64\n",
      " 8   BoundingBox1     30527 non-null  float64\n",
      " 9   BoundingBox2     30527 non-null  float64\n",
      " 10  BoundingBox3     30527 non-null  float64\n",
      " 11  BoundingBox4     30527 non-null  float64\n",
      " 12  ConvexHull1      30527 non-null  float64\n",
      " 13  ConvexHull2      30527 non-null  float64\n",
      " 14  ConvexHull3      30527 non-null  float64\n",
      " 15  ConvexHull4      30527 non-null  float64\n",
      " 16  MajorAxisLength  30527 non-null  float64\n",
      " 17  MinorAxisLength  30527 non-null  float64\n",
      " 18  Perimeter        30527 non-null  float64\n",
      " 19  ConvexArea       30527 non-null  float64\n",
      " 20  Centroid1        30527 non-null  float64\n",
      " 21  Centroid2        30527 non-null  float64\n",
      " 22  Area             30527 non-null  float64\n",
      " 23  raddi            30527 non-null  float64\n",
      " 24  microorganisms   30527 non-null  object \n",
      "dtypes: float64(24), object(1)\n",
      "memory usage: 5.8+ MB\n",
      "None\n",
      "\n",
      "missing values:  False\n",
      "zero values:  True\n"
     ]
    }
   ],
   "source": [
    "print(df.info(), end='\\n\\n')\n",
    "print('missing values: ', (df.isna().any().any()))\n",
    "print('zero values: ', (df==0.0).any().any())"
   ]
  },
  {
   "cell_type": "markdown",
   "metadata": {},
   "source": [
    "As we can see the dataset does not have any missing points, however, it has zero values, which needs to be investigated further."
   ]
  },
  {
   "cell_type": "code",
   "execution_count": 33,
   "metadata": {},
   "outputs": [
    {
     "data": {
      "text/html": [
       "<div>\n",
       "<style scoped>\n",
       "    .dataframe tbody tr th:only-of-type {\n",
       "        vertical-align: middle;\n",
       "    }\n",
       "\n",
       "    .dataframe tbody tr th {\n",
       "        vertical-align: top;\n",
       "    }\n",
       "\n",
       "    .dataframe thead th {\n",
       "        text-align: right;\n",
       "    }\n",
       "</style>\n",
       "<table border=\"1\" class=\"dataframe\">\n",
       "  <thead>\n",
       "    <tr style=\"text-align: right;\">\n",
       "      <th></th>\n",
       "      <th>Solidity</th>\n",
       "      <th>Eccentricity</th>\n",
       "      <th>EquivDiameter</th>\n",
       "      <th>Extrema</th>\n",
       "      <th>FilledArea</th>\n",
       "      <th>Extent</th>\n",
       "      <th>Orientation</th>\n",
       "      <th>EulerNumber</th>\n",
       "      <th>BoundingBox1</th>\n",
       "      <th>BoundingBox2</th>\n",
       "      <th>...</th>\n",
       "      <th>ConvexHull3</th>\n",
       "      <th>ConvexHull4</th>\n",
       "      <th>MajorAxisLength</th>\n",
       "      <th>MinorAxisLength</th>\n",
       "      <th>Perimeter</th>\n",
       "      <th>ConvexArea</th>\n",
       "      <th>Centroid1</th>\n",
       "      <th>Centroid2</th>\n",
       "      <th>Area</th>\n",
       "      <th>raddi</th>\n",
       "    </tr>\n",
       "  </thead>\n",
       "  <tbody>\n",
       "    <tr>\n",
       "      <th>count</th>\n",
       "      <td>30527.000000</td>\n",
       "      <td>30527.000000</td>\n",
       "      <td>30527.000000</td>\n",
       "      <td>30527.000000</td>\n",
       "      <td>30527.000000</td>\n",
       "      <td>30527.000000</td>\n",
       "      <td>30527.000000</td>\n",
       "      <td>30527.000000</td>\n",
       "      <td>30527.000000</td>\n",
       "      <td>30527.000000</td>\n",
       "      <td>...</td>\n",
       "      <td>30527.000000</td>\n",
       "      <td>30527.000000</td>\n",
       "      <td>30527.000000</td>\n",
       "      <td>30527.000000</td>\n",
       "      <td>30527.000000</td>\n",
       "      <td>30527.000000</td>\n",
       "      <td>30527.000000</td>\n",
       "      <td>30527.000000</td>\n",
       "      <td>30527.00000</td>\n",
       "      <td>30527.000000</td>\n",
       "    </tr>\n",
       "    <tr>\n",
       "      <th>mean</th>\n",
       "      <td>9.677744</td>\n",
       "      <td>19.466921</td>\n",
       "      <td>3.633348</td>\n",
       "      <td>11.871832</td>\n",
       "      <td>0.420022</td>\n",
       "      <td>5.840625</td>\n",
       "      <td>11.751004</td>\n",
       "      <td>22.380901</td>\n",
       "      <td>10.919027</td>\n",
       "      <td>10.399429</td>\n",
       "      <td>...</td>\n",
       "      <td>11.046482</td>\n",
       "      <td>11.021988</td>\n",
       "      <td>1.605159</td>\n",
       "      <td>1.014179</td>\n",
       "      <td>0.829416</td>\n",
       "      <td>0.254596</td>\n",
       "      <td>11.752783</td>\n",
       "      <td>11.554286</td>\n",
       "      <td>0.80278</td>\n",
       "      <td>5.214598</td>\n",
       "    </tr>\n",
       "    <tr>\n",
       "      <th>std</th>\n",
       "      <td>4.063437</td>\n",
       "      <td>3.479828</td>\n",
       "      <td>2.210851</td>\n",
       "      <td>6.045135</td>\n",
       "      <td>0.875091</td>\n",
       "      <td>3.250999</td>\n",
       "      <td>6.575319</td>\n",
       "      <td>0.962906</td>\n",
       "      <td>6.093280</td>\n",
       "      <td>5.797144</td>\n",
       "      <td>...</td>\n",
       "      <td>6.089508</td>\n",
       "      <td>6.089467</td>\n",
       "      <td>1.662537</td>\n",
       "      <td>1.224326</td>\n",
       "      <td>1.152165</td>\n",
       "      <td>0.971035</td>\n",
       "      <td>6.029756</td>\n",
       "      <td>5.700637</td>\n",
       "      <td>1.17043</td>\n",
       "      <td>2.805199</td>\n",
       "    </tr>\n",
       "    <tr>\n",
       "      <th>min</th>\n",
       "      <td>0.000000</td>\n",
       "      <td>0.000000</td>\n",
       "      <td>0.000000</td>\n",
       "      <td>0.000000</td>\n",
       "      <td>0.000000</td>\n",
       "      <td>0.000000</td>\n",
       "      <td>0.000000</td>\n",
       "      <td>0.000000</td>\n",
       "      <td>0.000000</td>\n",
       "      <td>0.000000</td>\n",
       "      <td>...</td>\n",
       "      <td>0.000000</td>\n",
       "      <td>0.000000</td>\n",
       "      <td>0.000000</td>\n",
       "      <td>0.000000</td>\n",
       "      <td>0.000000</td>\n",
       "      <td>0.000000</td>\n",
       "      <td>0.000000</td>\n",
       "      <td>0.000000</td>\n",
       "      <td>0.00000</td>\n",
       "      <td>0.000000</td>\n",
       "    </tr>\n",
       "    <tr>\n",
       "      <th>25%</th>\n",
       "      <td>6.570000</td>\n",
       "      <td>17.300000</td>\n",
       "      <td>2.180000</td>\n",
       "      <td>6.790000</td>\n",
       "      <td>0.093700</td>\n",
       "      <td>3.280000</td>\n",
       "      <td>6.005000</td>\n",
       "      <td>22.300000</td>\n",
       "      <td>5.690000</td>\n",
       "      <td>5.730000</td>\n",
       "      <td>...</td>\n",
       "      <td>5.790000</td>\n",
       "      <td>5.755000</td>\n",
       "      <td>0.635000</td>\n",
       "      <td>0.421000</td>\n",
       "      <td>0.253000</td>\n",
       "      <td>0.034700</td>\n",
       "      <td>6.570000</td>\n",
       "      <td>7.110000</td>\n",
       "      <td>0.21800</td>\n",
       "      <td>3.080000</td>\n",
       "    </tr>\n",
       "    <tr>\n",
       "      <th>50%</th>\n",
       "      <td>9.350000</td>\n",
       "      <td>20.700000</td>\n",
       "      <td>3.380000</td>\n",
       "      <td>12.000000</td>\n",
       "      <td>0.229000</td>\n",
       "      <td>5.260000</td>\n",
       "      <td>12.100000</td>\n",
       "      <td>22.600000</td>\n",
       "      <td>10.900000</td>\n",
       "      <td>10.000000</td>\n",
       "      <td>...</td>\n",
       "      <td>11.000000</td>\n",
       "      <td>11.000000</td>\n",
       "      <td>1.160000</td>\n",
       "      <td>0.745000</td>\n",
       "      <td>0.518000</td>\n",
       "      <td>0.085700</td>\n",
       "      <td>12.100000</td>\n",
       "      <td>11.200000</td>\n",
       "      <td>0.51400</td>\n",
       "      <td>5.320000</td>\n",
       "    </tr>\n",
       "    <tr>\n",
       "      <th>75%</th>\n",
       "      <td>12.600000</td>\n",
       "      <td>22.200000</td>\n",
       "      <td>4.580000</td>\n",
       "      <td>17.200000</td>\n",
       "      <td>0.434500</td>\n",
       "      <td>7.850000</td>\n",
       "      <td>17.200000</td>\n",
       "      <td>22.900000</td>\n",
       "      <td>15.800000</td>\n",
       "      <td>14.900000</td>\n",
       "      <td>...</td>\n",
       "      <td>15.900000</td>\n",
       "      <td>15.900000</td>\n",
       "      <td>2.070000</td>\n",
       "      <td>1.220000</td>\n",
       "      <td>0.968000</td>\n",
       "      <td>0.200000</td>\n",
       "      <td>16.900000</td>\n",
       "      <td>16.200000</td>\n",
       "      <td>0.93400</td>\n",
       "      <td>7.050000</td>\n",
       "    </tr>\n",
       "    <tr>\n",
       "      <th>max</th>\n",
       "      <td>23.000000</td>\n",
       "      <td>23.000000</td>\n",
       "      <td>23.000000</td>\n",
       "      <td>23.000000</td>\n",
       "      <td>23.000000</td>\n",
       "      <td>23.000000</td>\n",
       "      <td>23.000000</td>\n",
       "      <td>23.000000</td>\n",
       "      <td>23.000000</td>\n",
       "      <td>23.000000</td>\n",
       "      <td>...</td>\n",
       "      <td>23.000000</td>\n",
       "      <td>23.000000</td>\n",
       "      <td>23.000000</td>\n",
       "      <td>23.000000</td>\n",
       "      <td>23.000000</td>\n",
       "      <td>23.000000</td>\n",
       "      <td>23.000000</td>\n",
       "      <td>23.000000</td>\n",
       "      <td>23.00000</td>\n",
       "      <td>23.000000</td>\n",
       "    </tr>\n",
       "  </tbody>\n",
       "</table>\n",
       "<p>8 rows × 24 columns</p>\n",
       "</div>"
      ],
      "text/plain": [
       "           Solidity  Eccentricity  EquivDiameter       Extrema    FilledArea  \\\n",
       "count  30527.000000  30527.000000   30527.000000  30527.000000  30527.000000   \n",
       "mean       9.677744     19.466921       3.633348     11.871832      0.420022   \n",
       "std        4.063437      3.479828       2.210851      6.045135      0.875091   \n",
       "min        0.000000      0.000000       0.000000      0.000000      0.000000   \n",
       "25%        6.570000     17.300000       2.180000      6.790000      0.093700   \n",
       "50%        9.350000     20.700000       3.380000     12.000000      0.229000   \n",
       "75%       12.600000     22.200000       4.580000     17.200000      0.434500   \n",
       "max       23.000000     23.000000      23.000000     23.000000     23.000000   \n",
       "\n",
       "             Extent   Orientation   EulerNumber  BoundingBox1  BoundingBox2  \\\n",
       "count  30527.000000  30527.000000  30527.000000  30527.000000  30527.000000   \n",
       "mean       5.840625     11.751004     22.380901     10.919027     10.399429   \n",
       "std        3.250999      6.575319      0.962906      6.093280      5.797144   \n",
       "min        0.000000      0.000000      0.000000      0.000000      0.000000   \n",
       "25%        3.280000      6.005000     22.300000      5.690000      5.730000   \n",
       "50%        5.260000     12.100000     22.600000     10.900000     10.000000   \n",
       "75%        7.850000     17.200000     22.900000     15.800000     14.900000   \n",
       "max       23.000000     23.000000     23.000000     23.000000     23.000000   \n",
       "\n",
       "       ...   ConvexHull3   ConvexHull4  MajorAxisLength  MinorAxisLength  \\\n",
       "count  ...  30527.000000  30527.000000     30527.000000     30527.000000   \n",
       "mean   ...     11.046482     11.021988         1.605159         1.014179   \n",
       "std    ...      6.089508      6.089467         1.662537         1.224326   \n",
       "min    ...      0.000000      0.000000         0.000000         0.000000   \n",
       "25%    ...      5.790000      5.755000         0.635000         0.421000   \n",
       "50%    ...     11.000000     11.000000         1.160000         0.745000   \n",
       "75%    ...     15.900000     15.900000         2.070000         1.220000   \n",
       "max    ...     23.000000     23.000000        23.000000        23.000000   \n",
       "\n",
       "          Perimeter    ConvexArea     Centroid1     Centroid2         Area  \\\n",
       "count  30527.000000  30527.000000  30527.000000  30527.000000  30527.00000   \n",
       "mean       0.829416      0.254596     11.752783     11.554286      0.80278   \n",
       "std        1.152165      0.971035      6.029756      5.700637      1.17043   \n",
       "min        0.000000      0.000000      0.000000      0.000000      0.00000   \n",
       "25%        0.253000      0.034700      6.570000      7.110000      0.21800   \n",
       "50%        0.518000      0.085700     12.100000     11.200000      0.51400   \n",
       "75%        0.968000      0.200000     16.900000     16.200000      0.93400   \n",
       "max       23.000000     23.000000     23.000000     23.000000     23.00000   \n",
       "\n",
       "              raddi  \n",
       "count  30527.000000  \n",
       "mean       5.214598  \n",
       "std        2.805199  \n",
       "min        0.000000  \n",
       "25%        3.080000  \n",
       "50%        5.320000  \n",
       "75%        7.050000  \n",
       "max       23.000000  \n",
       "\n",
       "[8 rows x 24 columns]"
      ]
     },
     "execution_count": 33,
     "metadata": {},
     "output_type": "execute_result"
    }
   ],
   "source": [
    "df.describe()"
   ]
  },
  {
   "cell_type": "markdown",
   "metadata": {},
   "source": [
    "Each column has a minimal value of 0.0, which is odd.  \n",
    "Not all features (such as area) can logically take 0.0 values.  \n",
    "Thus, we compute the number of zero values."
   ]
  },
  {
   "cell_type": "code",
   "execution_count": 48,
   "metadata": {},
   "outputs": [
    {
     "name": "stdout",
     "output_type": "stream",
     "text": [
      "number of zero values:  245\n"
     ]
    }
   ],
   "source": [
    "print('number of zero values: ', (df == 0.0).any(axis=1).sum())"
   ]
  },
  {
   "cell_type": "markdown",
   "metadata": {},
   "source": [
    "### Distribution of classes"
   ]
  },
  {
   "cell_type": "markdown",
   "metadata": {},
   "source": [
    "Lets investigate given classes in a more precise manner."
   ]
  },
  {
   "cell_type": "code",
   "execution_count": 68,
   "metadata": {},
   "outputs": [
    {
     "data": {
      "image/png": "[encoded data removed]",
      "text/plain": [
       "<Figure size 640x480 with 1 Axes>"
      ]
     },
     "metadata": {},
     "output_type": "display_data"
    }
   ],
   "source": [
    "class_distribution = df['microorganisms'].value_counts(normalize=True)*100\n",
    "class_distribution.plot(kind='bar', color='green', alpha=0.6)\n",
    "plt.ylabel('percentage')\n",
    "plt.xlabel('')\n",
    "plt.xticks(rotation= -55)\n",
    "plt.grid(color='black', alpha=0.3)\n",
    "plt.show()"
   ]
  },
  {
   "cell_type": "markdown",
   "metadata": {},
   "source": [
    "Lets now see how deletion of zero values going to influence the distribution of classes."
   ]
  },
  {
   "cell_type": "code",
   "execution_count": 74,
   "metadata": {},
   "outputs": [],
   "source": [
    "df_no_zeros = df.drop(df.index[(df == 0.0).any(axis=1)])\n",
    "class_distribution_no_zero = df_no_zeros['microorganisms'].value_counts(normalize=True)*100\n",
    "\n",
    "# придумать как красиво описать новый distribution классов (которые без нулей) и показать разницу в процентах"
   ]
  }
 ],
 "metadata": {
  "kernelspec": {
   "display_name": "Python 3",
   "language": "python",
   "name": "python3"
  },
  "language_info": {
   "codemirror_mode": {
    "name": "ipython",
    "version": 3
   },
   "file_extension": ".py",
   "mimetype": "text/x-python",
   "name": "python",
   "nbconvert_exporter": "python",
   "pygments_lexer": "ipython3",
   "version": "3.12.1"
  }
 },
 "nbformat": 4,
 "nbformat_minor": 2
}
